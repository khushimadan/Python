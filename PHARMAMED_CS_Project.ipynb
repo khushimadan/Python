{
  "nbformat": 4,
  "nbformat_minor": 0,
  "metadata": {
    "colab": {
      "provenance": [],
      "authorship_tag": "ABX9TyNh07Fy13fu7lnAoVgZCzkV",
      "include_colab_link": true
    },
    "kernelspec": {
      "name": "python3",
      "display_name": "Python 3"
    },
    "language_info": {
      "name": "python"
    }
  },
  "cells": [
    {
      "cell_type": "markdown",
      "metadata": {
        "id": "view-in-github",
        "colab_type": "text"
      },
      "source": [
        "<a href=\"https://colab.research.google.com/github/khushimadan/Python/blob/master/PHARMAMED_CS_Project.ipynb\" target=\"_parent\"><img src=\"https://colab.research.google.com/assets/colab-badge.svg\" alt=\"Open In Colab\"/></a>"
      ]
    },
    {
      "cell_type": "code",
      "execution_count": 1,
      "metadata": {
        "colab": {
          "base_uri": "https://localhost:8080/"
        },
        "id": "z39hr_hZoy9f",
        "outputId": "e4c18461-ed78-4bcd-a9d8-6985f1261001"
      },
      "outputs": [
        {
          "name": "stdout",
          "output_type": "stream",
          "text": [
            "Enter 1 to Add data to the existing records\n",
            "Enter 2 to Display all the records\n",
            "Enter 3 to Modify an existing record\n",
            "Enter 4 to Delete an existing record\n",
            "Enter your choice:2\n",
            "{'Medicine Name': 'Paracetamol', 'Prescribed by': 'Dr.Gaba', 'Dosage': '1-2 tablets/day', 'Expiry Date': '02/04/23', 'Price': 10.0, 'Discount': 0}\n",
            "{'Medicine Name': 'T-Minic Syrup', 'Prescribed by': 'Dr.Roshni Mahajan', 'Dosage': '3 times/day', 'Expiry Date': '07/05/24', 'Price': 100.0, 'Discount': 0}\n",
            "{'Medicine Name': 'Wincold Z', 'Prescribed by': 'Dr.Ajit Tiwari', 'Dosage': '1 tablet/day', 'Expiry Date': '01/01/24', 'Price': 30.0, 'Discount': 0}\n",
            "{'Medicine Name': 'Xantox glo', 'Prescribed by': 'Dr.Radha Sharma', 'Dosage': '3 times a week', 'Expiry Date': '01/11/23', 'Price': 1062.5, 'Discount': 15.0}\n",
            "{'Medicine Name': 'Tendocel', 'Prescribed by': 'Dr.Sumit Kumar', 'Dosage': '2 tablets/day', 'Expiry Date': '12/12/24', 'Price': 313.65, 'Discount': 15.0}\n",
            "Would you like to continue? (y/n)y\n",
            "Enter 1 to Add data to the existing records\n",
            "Enter 2 to Display all the records\n",
            "Enter 3 to Modify an existing record\n",
            "Enter 4 to Delete an existing record\n",
            "Enter your choice:4\n",
            "Enter name of the medicine whose data you would like to delete from the records:Tendocel\n",
            "Record has been deleted!\n",
            "Would you like to continue? (y/n)2\n"
          ]
        }
      ],
      "source": [
        "import pickle\n",
        "import os\n",
        "\n",
        "file=open(\"PharmaMed.dat\",\"wb\")\n",
        "pickle.dump({\"Medicine Name\": \"Paracetamol\",\"Prescribed by\":\"Dr.Gaba\",\"Dosage\": \"1-2 tablets/day\",\"Expiry Date\":\"02/04/23\",\"Price\":10.00,\"Discount\":0},file)\n",
        "pickle.dump({\"Medicine Name\": \"T-Minic Syrup\",\"Prescribed by\":\"Dr.Roshni Mahajan\",\"Dosage\": \"3 times/day\",\"Expiry Date\":\"07/05/24\",\"Price\":100.00,\"Discount\":0},file)\n",
        "pickle.dump({\"Medicine Name\": \"Wincold Z\",\"Prescribed by\":\"Dr.Ajit Tiwari\",\"Dosage\": \"1 tablet/day\",\"Expiry Date\":\"01/01/24\",\"Price\":30.00,\"Discount\":0},file)\n",
        "pickle.dump({\"Medicine Name\": \"Xantox glo\",\"Prescribed by\":\"Dr.Radha Sharma\",\"Dosage\": \"3 times a week\",\"Expiry Date\":\"01/11/23\",\"Price\":1062.50,\"Discount\":15.00},file)\n",
        "pickle.dump({\"Medicine Name\": \"Tendocel\",\"Prescribed by\":\"Dr.Sumit Kumar\",\"Dosage\": \"2 tablets/day\",\"Expiry Date\":\"12/12/24\",\"Price\":313.65,\"Discount\":15.00},file)\n",
        "file.close()\n",
        "\n",
        "def Add():\n",
        "  with open(\"PharmaMed.dat\",\"ab\") as f:\n",
        "    mname=input(\"Enter Medicine Name:\")\n",
        "    doctor=input(\"Enter Name of the Doctor:\")\n",
        "    dosage=input(\"Enter Dosage of the Medicine:\")\n",
        "    expiry=input(\"Enter Expiry Date (dd/mm/yy):\")\n",
        "    price=float(input(\"Enter Price:\"))\n",
        "    discount=float(input(\"Enter Discount Offered (if any)\"))\n",
        "    dict1={\"Medicine Name\":mname,\"Prescribed By\":doctor,\"Dosage\":dosage,\"Expiry Date\":expiry,\"Price\":price,\"Discount\":discount}\n",
        "    pickle.dump(dict1,f)\n",
        "    print(\"Record has been saved!\")\n",
        "\n",
        "def Display():\n",
        "  with open(\"PharmaMed.dat\",\"rb\") as f:\n",
        "    while f:\n",
        "      try:\n",
        "        rec=pickle.load(f)\n",
        "        print(rec)\n",
        "      except:\n",
        "        break\n",
        "\n",
        "def Modify(searchname,n):\n",
        "  dict1={}\n",
        "  found=False\n",
        "  with open(\"PharmaMed.dat\",\"rb+\") as f:        \n",
        "    while True:\n",
        "      pos=f.tell()\n",
        "      try:\n",
        "        dict1=pickle.load(f)\n",
        "        if dict1['Medicine Name']==searchname:\n",
        "          found=True\n",
        "          dict1['Price']=n\n",
        "          f.seek(pos) \n",
        "          pickle.dump(dict1,f)\n",
        "          print(\"Record has been modified!\")\n",
        "      except EOFError:\n",
        "        if found==False:\n",
        "          print(\"No Record Found\")\n",
        "        break\n",
        "\n",
        "def Delete(search):\n",
        "  oldfile=open(\"PharmaMed.dat\",\"rb\") \n",
        "  newfile=open(\"Newfile.dat\",\"ab\")\n",
        "  while True:\n",
        "    try:\n",
        "      rec=pickle.load(oldfile)\n",
        "      if rec[\"Medicine Name\"]==search:\n",
        "        pass              \n",
        "      else:\n",
        "        pickle.dump(rec,newfile)   \n",
        "    except EOFError:\n",
        "      break\n",
        "  oldfile.close()\n",
        "  newfile.close()\n",
        "  os.remove(\"PharmaMed.dat\")\n",
        "  os.rename(\"Newfile.dat\",\"PharmaMed.dat\")\n",
        "  print(\"Record has been deleted!\")\n",
        "\n",
        "#main\n",
        "ans='y'\n",
        "while ans in 'yY':\n",
        "  print(\"Enter 1 to Add data to the existing records\")\n",
        "  print(\"Enter 2 to Display all the records\")\n",
        "  print(\"Enter 3 to Modify an existing record\")\n",
        "  print(\"Enter 4 to Delete an existing record\")\n",
        "  n=int(input(\"Enter your choice:\"))\n",
        "  if n==1:\n",
        "    Add()\n",
        "  elif n==2:\n",
        "    Display()\n",
        "  elif n==3:\n",
        "    searchname=input(\"Enter name of the medicine whose price you would like to modify:\")\n",
        "    n=float(input(\"Enter the new price of the medicine:\"))\n",
        "    Modify(searchname,n)\n",
        "  elif n==4:\n",
        "    search=input(\"Enter name of the medicine whose data you would like to delete from the records:\")\n",
        "    Delete(search)\n",
        "  else:\n",
        "    print(\"Wrong input!\")\n",
        "  ans=input(\"Would you like to continue? (y/n)\")\n",
        "\n"
      ]
    }
  ]
}