{
  "nbformat": 4,
  "nbformat_minor": 0,
  "metadata": {
    "colab": {
      "name": "xi khushimadan.ipynb",
      "provenance": [],
      "authorship_tag": "ABX9TyPIYEWv/6lcaK+r1qmNKZ3s",
      "include_colab_link": true
    },
    "kernelspec": {
      "name": "python3",
      "display_name": "Python 3"
    }
  },
  "cells": [
    {
      "cell_type": "markdown",
      "metadata": {
        "id": "view-in-github",
        "colab_type": "text"
      },
      "source": [
        "<a href=\"https://colab.research.google.com/github/khushimadan/Python/blob/master/xi_khushimadan.ipynb\" target=\"_parent\"><img src=\"https://colab.research.google.com/assets/colab-badge.svg\" alt=\"Open In Colab\"/></a>"
      ]
    },
    {
      "cell_type": "code",
      "metadata": {
        "id": "NRSCI6Ptply2",
        "colab_type": "code",
        "colab": {
          "base_uri": "https://localhost:8080/",
          "height": 35
        },
        "outputId": "b6284df5-810f-451d-8ace-4b0516654dfe"
      },
      "source": [
        "  print (\"My name is Khushi\")"
      ],
      "execution_count": null,
      "outputs": [
        {
          "output_type": "stream",
          "text": [
            "My name is Khushi\n"
          ],
          "name": "stdout"
        }
      ]
    },
    {
      "cell_type": "code",
      "metadata": {
        "id": "AULSeJfsEGvE",
        "colab_type": "code",
        "colab": {
          "base_uri": "https://localhost:8080/",
          "height": 35
        },
        "outputId": "dec78711-c0dd-4e4e-de0e-8a73eae8d2f2"
      },
      "source": [
        "print (8+5-3)"
      ],
      "execution_count": null,
      "outputs": [
        {
          "output_type": "stream",
          "text": [
            "10\n"
          ],
          "name": "stdout"
        }
      ]
    },
    {
      "cell_type": "code",
      "metadata": {
        "id": "5tlhYmNRExKL",
        "colab_type": "code",
        "colab": {
          "base_uri": "https://localhost:8080/",
          "height": 35
        },
        "outputId": "b01f7aab-d325-4146-8a0b-bf099ddd784a"
      },
      "source": [
        "\"67\" + \"65\" #this is a string #wont be used for mathematical operations"
      ],
      "execution_count": null,
      "outputs": [
        {
          "output_type": "execute_result",
          "data": {
            "application/vnd.google.colaboratory.intrinsic": {
              "type": "string"
            },
            "text/plain": [
              "'6765'"
            ]
          },
          "metadata": {
            "tags": []
          },
          "execution_count": 3
        }
      ]
    },
    {
      "cell_type": "code",
      "metadata": {
        "id": "D46VLQkcE4y2",
        "colab_type": "code",
        "colab": {
          "base_uri": "https://localhost:8080/",
          "height": 35
        },
        "outputId": "21f79a66-c6d4-4b3a-ce82-2327af6e67cb"
      },
      "source": [
        "print (\"Khushi\" , \"Madan\") #Comma helps in giving space"
      ],
      "execution_count": null,
      "outputs": [
        {
          "output_type": "stream",
          "text": [
            "Khushi Madan\n"
          ],
          "name": "stdout"
        }
      ]
    },
    {
      "cell_type": "code",
      "metadata": {
        "id": "j7d9m0thFA9W",
        "colab_type": "code",
        "colab": {
          "base_uri": "https://localhost:8080/",
          "height": 35
        },
        "outputId": "3dc6ac6a-25e2-451a-8130-37b26764c9a3"
      },
      "source": [
        "print (15%5) #it will print remainder"
      ],
      "execution_count": null,
      "outputs": [
        {
          "output_type": "stream",
          "text": [
            "0\n"
          ],
          "name": "stdout"
        }
      ]
    },
    {
      "cell_type": "code",
      "metadata": {
        "id": "opTNIOmRGAfR",
        "colab_type": "code",
        "colab": {
          "base_uri": "https://localhost:8080/",
          "height": 35
        },
        "outputId": "9e9fac57-d5f9-4c0a-f3ba-170930ea4394"
      },
      "source": [
        "\"56\"*3 #56 forms a string"
      ],
      "execution_count": null,
      "outputs": [
        {
          "output_type": "execute_result",
          "data": {
            "application/vnd.google.colaboratory.intrinsic": {
              "type": "string"
            },
            "text/plain": [
              "'565656'"
            ]
          },
          "metadata": {
            "tags": []
          },
          "execution_count": 7
        }
      ]
    },
    {
      "cell_type": "code",
      "metadata": {
        "id": "veEHk4auGokT",
        "colab_type": "code",
        "colab": {
          "base_uri": "https://localhost:8080/",
          "height": 35
        },
        "outputId": "37b301a2-f8bb-4a77-b8b6-6574909842ec"
      },
      "source": [
        "2*\"BYE-\"*3"
      ],
      "execution_count": null,
      "outputs": [
        {
          "output_type": "execute_result",
          "data": {
            "application/vnd.google.colaboratory.intrinsic": {
              "type": "string"
            },
            "text/plain": [
              "'BYE-BYE-BYE-BYE-BYE-BYE-'"
            ]
          },
          "metadata": {
            "tags": []
          },
          "execution_count": 8
        }
      ]
    },
    {
      "cell_type": "code",
      "metadata": {
        "id": "IuETvBfIGwo7",
        "colab_type": "code",
        "colab": {
          "base_uri": "https://localhost:8080/",
          "height": 35
        },
        "outputId": "c9c94746-02eb-4639-9097-487f47c72a62"
      },
      "source": [
        "print (2*\"123\") # 123 acts as a string"
      ],
      "execution_count": null,
      "outputs": [
        {
          "output_type": "stream",
          "text": [
            "123123\n"
          ],
          "name": "stdout"
        }
      ]
    },
    {
      "cell_type": "code",
      "metadata": {
        "id": "sxqp4Jg0Hke4",
        "colab_type": "code",
        "colab": {
          "base_uri": "https://localhost:8080/",
          "height": 69
        },
        "outputId": "d3d3eabe-e44e-41dd-a3cb-3da287e45e1c"
      },
      "source": [
        "W = \"Water\"\n",
        "A = \"Air\"\n",
        "P = \"Pizza\"\n",
        "print (W in \"Air and Water essential in life\") #checks if w = water is there in the given string - air and water essential in life\n",
        "print (A in \"Air and Water essential in life\")\n",
        "print (P in \"Air and Water essential in life\")\n"
      ],
      "execution_count": null,
      "outputs": [
        {
          "output_type": "stream",
          "text": [
            "True\n",
            "True\n",
            "False\n"
          ],
          "name": "stdout"
        }
      ]
    },
    {
      "cell_type": "code",
      "metadata": {
        "id": "G8Ox5hiyuryq",
        "colab_type": "code",
        "colab": {
          "base_uri": "https://localhost:8080/",
          "height": 69
        },
        "outputId": "e0b54ea9-c658-4455-b948-6aef3491b10e"
      },
      "source": [
        "Var1 = 7                              # Python keeps on overwriting on the value of Var 1 \n",
        "print (Var1)\n",
        "Var1 = 0\n",
        "Var1=Var1+10\n",
        "print (Var1)\n",
        "Var1 = 3.5\n",
        "print (Var1)"
      ],
      "execution_count": null,
      "outputs": [
        {
          "output_type": "stream",
          "text": [
            "7\n",
            "10\n",
            "3.5\n"
          ],
          "name": "stdout"
        }
      ]
    },
    {
      "cell_type": "code",
      "metadata": {
        "id": "PaxnqxUHvjLh",
        "colab_type": "code",
        "colab": {
          "base_uri": "https://localhost:8080/",
          "height": 35
        },
        "outputId": "d1b3e2d7-4591-4b27-c2a6-c3c68d632660"
      },
      "source": [
        "Var1 = 7\n",
        "Var1 = 10\n",
        "print (Var1) # the value of Var1 = 7 was overwritten by 10"
      ],
      "execution_count": null,
      "outputs": [
        {
          "output_type": "stream",
          "text": [
            "10\n"
          ],
          "name": "stdout"
        }
      ]
    },
    {
      "cell_type": "code",
      "metadata": {
        "id": "rukUmm-Qzirm",
        "colab_type": "code",
        "colab": {
          "base_uri": "https://localhost:8080/",
          "height": 104
        },
        "outputId": "e548db89-6a5d-4847-b63c-ed4fd1806a61"
      },
      "source": [
        "print(\"Program to perform all 4 mathematical operations\")\n",
        "x=4\n",
        "y=2\n",
        "sum=x+y\n",
        "difference=x-y\n",
        "product=x*y\n",
        "division=x/y\n",
        "print (\"The sum is %i\" %sum)\n",
        "print (\"The difference is %i\"%difference)\n",
        "print (\"The product is %i\"%product)\n",
        "print (\"The quotient is %i\"%division)\n"
      ],
      "execution_count": null,
      "outputs": [
        {
          "output_type": "stream",
          "text": [
            "Program to perform all 4 mathematical operations\n",
            "The sum is 6\n",
            "The difference is 2\n",
            "The product is 8\n",
            "The quotient is 2\n"
          ],
          "name": "stdout"
        }
      ]
    },
    {
      "cell_type": "code",
      "metadata": {
        "id": "y3tf0E2hwaAi",
        "colab_type": "code",
        "colab": {
          "base_uri": "https://localhost:8080/",
          "height": 139
        },
        "outputId": "663b5907-c9be-4191-ce09-9a571f554cf2"
      },
      "source": [
        "print (17/3) # will print quotient\n",
        "print (181//2) #will print 90 instead of 90.5 so only the integral value\n",
        "print (8*(4+3)+(7+2)) \n",
        "print (28%3) # modulus= will print remainder\n",
        "print (5**3) # this is 5 raise to the power 3\n",
        "print (type(3.4)) # print tells which kind of data it is\n",
        "print (type('Good Morning'))\n",
        "\n",
        "()\n",
        "/ * %             #hierarchy for solving any mathematical equation\n",
        "+ -\n"
      ],
      "execution_count": null,
      "outputs": [
        {
          "output_type": "stream",
          "text": [
            "5.666666666666667\n",
            "90\n",
            "65\n",
            "1\n",
            "125\n",
            "<class 'float'>\n",
            "<class 'str'>\n"
          ],
          "name": "stdout"
        }
      ]
    },
    {
      "cell_type": "code",
      "metadata": {
        "id": "rkOoLNoHx6EN",
        "colab_type": "code",
        "colab": {
          "base_uri": "https://localhost:8080/",
          "height": 52
        },
        "outputId": "e3c7b008-d98d-4d8a-c6dd-fbfb2352ee0c"
      },
      "source": [
        "x=input('Enter your name')\n",
        "print(\"WELCOME!\", x)"
      ],
      "execution_count": null,
      "outputs": [
        {
          "output_type": "stream",
          "text": [
            "Enter your namekhushi\n",
            "WELCOME! khushi\n"
          ],
          "name": "stdout"
        }
      ]
    },
    {
      "cell_type": "code",
      "metadata": {
        "id": "31ryLtWYyP4O",
        "colab_type": "code",
        "colab": {
          "base_uri": "https://localhost:8080/",
          "height": 69
        },
        "outputId": "61f7fd7f-5c62-4440-fc11-970cc66c4655"
      },
      "source": [
        "#this program will add two numbers input by the user\n",
        "x=int(input(\"Enter a number\"))\n",
        "y=eval(input(\"Enter second number\"))   # we use int or eval when we have to accept numbers from the user and not string\n",
        "z=x+y\n",
        "print(\"The sum is\",z)       # if only input is written it will take numbers as string so maths operations wont work"
      ],
      "execution_count": null,
      "outputs": [
        {
          "output_type": "stream",
          "text": [
            "Enter a number40\n",
            "Enter second number50\n",
            "The sum is 90\n"
          ],
          "name": "stdout"
        }
      ]
    },
    {
      "cell_type": "code",
      "metadata": {
        "id": "T59WZ7lj1G4u",
        "colab_type": "code",
        "colab": {
          "base_uri": "https://localhost:8080/",
          "height": 69
        },
        "outputId": "087a8b38-dc9a-44b6-fdcd-bf05cf3620b7"
      },
      "source": [
        "x=float(input(\"Enter a number\"))\n",
        "y=float(input(\"Enter second number\"))   # Difference between int & eval and float\n",
        "z=x+y\n",
        "print (\"The sum is\",z)"
      ],
      "execution_count": null,
      "outputs": [
        {
          "output_type": "stream",
          "text": [
            "Enter a number10\n",
            "Enter second number20\n",
            "The sum is 30.0\n"
          ],
          "name": "stdout"
        }
      ]
    },
    {
      "cell_type": "code",
      "metadata": {
        "id": "6qrrGeiw2TqM",
        "colab_type": "code",
        "colab": {
          "base_uri": "https://localhost:8080/",
          "height": 52
        },
        "outputId": "59e76e2d-b7c9-4575-da72-ef6d38e189e7"
      },
      "source": [
        "#Program to accept a number from user and to print its cube\n",
        "x=int(input(\"Enter a number\"))  \n",
        "y=x**3\n",
        "print(\"The cube is\", y)"
      ],
      "execution_count": null,
      "outputs": [
        {
          "output_type": "stream",
          "text": [
            "Enter a number2\n",
            "The cube is 8\n"
          ],
          "name": "stdout"
        }
      ]
    },
    {
      "cell_type": "code",
      "metadata": {
        "id": "RbH43POg3Y1J",
        "colab_type": "code",
        "colab": {
          "base_uri": "https://localhost:8080/",
          "height": 87
        },
        "outputId": "634946ca-f95e-4ba0-946b-d80d24e92cc0"
      },
      "source": [
        "#Program to accept principal, rate and time from user.Display its simple interest\n",
        "P=float(input(\"Enter principal amount\"))\n",
        "R=float(input(\"Enter rate\"))\n",
        "T=float(input(\"Enter time\"))\n",
        "Interest=P*R*T/100\n",
        "print(\"Simple interest is\", Interest)"
      ],
      "execution_count": null,
      "outputs": [
        {
          "output_type": "stream",
          "text": [
            "Enter principal amount100000\n",
            "Enter rate7\n",
            "Enter time2\n",
            "Simple interest is 14000.0\n"
          ],
          "name": "stdout"
        }
      ]
    },
    {
      "cell_type": "code",
      "metadata": {
        "id": "e8wLP4K45pFY",
        "colab_type": "code",
        "colab": {
          "base_uri": "https://localhost:8080/",
          "height": 87
        },
        "outputId": "9b7d19e1-11f5-48ed-dace-475f25ef6ec6"
      },
      "source": [
        "#Program to accept length and breadth. Display area and peremeter\n",
        "x=int(input(\"Enter length\"))\n",
        "y=int(input(\"Enter breadth\"))\n",
        "z=x*y\n",
        "k=2*(x+y)\n",
        "print(\"Area is\",z)\n",
        "print(\"Peremeter is\",k)"
      ],
      "execution_count": null,
      "outputs": [
        {
          "output_type": "stream",
          "text": [
            "Enter length60\n",
            "Enter breadth30\n",
            "Area is 1800\n",
            "Peremeter is 180\n"
          ],
          "name": "stdout"
        }
      ]
    },
    {
      "cell_type": "code",
      "metadata": {
        "id": "ZH3on7EiGeC_",
        "colab_type": "code",
        "colab": {
          "base_uri": "https://localhost:8080/",
          "height": 104
        },
        "outputId": "8ed9d092-60c5-47c5-90a1-0ac77e03bc95"
      },
      "source": [
        "#value of True=1 and False=0\n",
        "# IPO - input then process then output \n",
        "#mutable- changeable\n",
        "#immutable-non changeable\n",
        "a=\"kashish\"\n",
        "print(type(a))\n",
        "b=7\n",
        "print(type(b))\n",
        "c=6.2\n",
        "print(type(c))\n",
        "d=False\n",
        "print(type(d))\n",
        "_=5\n",
        "print(_)"
      ],
      "execution_count": null,
      "outputs": [
        {
          "output_type": "stream",
          "text": [
            "<class 'str'>\n",
            "<class 'int'>\n",
            "<class 'float'>\n",
            "<class 'bool'>\n",
            "5\n"
          ],
          "name": "stdout"
        }
      ]
    },
    {
      "cell_type": "code",
      "metadata": {
        "id": "is9w0fWpMvu_",
        "colab_type": "code",
        "colab": {
          "base_uri": "https://localhost:8080/",
          "height": 35
        },
        "outputId": "d6bfdc45-7a83-4eee-d5ca-3b1a9185106d"
      },
      "source": [
        "# if we are checking equality of a variable we use ==\n",
        "#for assigning values we use only one =\n",
        "a=200\n",
        "b=33\n",
        "if b>a:\n",
        "  print(\"b is greater than a\")\n",
        "else:\n",
        "  print(\"a is greater than b\") \n",
        "  "
      ],
      "execution_count": null,
      "outputs": [
        {
          "output_type": "stream",
          "text": [
            "a is greater than b\n"
          ],
          "name": "stdout"
        }
      ]
    },
    {
      "cell_type": "code",
      "metadata": {
        "id": "wceOvB4BN1mu",
        "colab_type": "code",
        "colab": {
          "base_uri": "https://localhost:8080/",
          "height": 52
        },
        "outputId": "3805ffa2-6ff6-44b0-e99e-b84ef419b4dd"
      },
      "source": [
        "# checking if a number is odd or even\n",
        "x=int(input(\"Enter a number\"))\n",
        "if x%2==0:\n",
        "  print(x, \"is even \")\n",
        "else:\n",
        "  print(x, \"is odd\")"
      ],
      "execution_count": null,
      "outputs": [
        {
          "output_type": "stream",
          "text": [
            "Enter a number10\n",
            "10 is even \n"
          ],
          "name": "stdout"
        }
      ]
    },
    {
      "cell_type": "code",
      "metadata": {
        "id": "sGMH58--Pbid",
        "colab_type": "code",
        "colab": {
          "base_uri": "https://localhost:8080/",
          "height": 69
        },
        "outputId": "4723ed88-06e8-4092-9ab6-42404fc4f463"
      },
      "source": [
        "x=int(input(\"Enter a number\"))\n",
        "y=int(input(\"Enter second number\"))\n",
        "if x>y:\n",
        "  print(x,\"is greater than\",y)\n",
        "else:\n",
        "  print(y,\"is greater than\",x)"
      ],
      "execution_count": null,
      "outputs": [
        {
          "output_type": "stream",
          "text": [
            "Enter a number100\n",
            "Enter second number20\n",
            "100 is greater than 20\n"
          ],
          "name": "stdout"
        }
      ]
    },
    {
      "cell_type": "code",
      "metadata": {
        "id": "140edezyPhu0",
        "colab_type": "code",
        "colab": {
          "base_uri": "https://localhost:8080/",
          "height": 52
        },
        "outputId": "6c79a050-8e0f-4ad0-af9f-6a5ddaa3b784"
      },
      "source": [
        "x=int(input(\"Enter a Number\"))\n",
        "if x%2==0:\n",
        "  print(x,\"is an even number\")\n",
        "else:\n",
        "  print(x,\"is an odd number\")"
      ],
      "execution_count": null,
      "outputs": [
        {
          "output_type": "stream",
          "text": [
            "Enter a Number45\n",
            "45 is an odd number\n"
          ],
          "name": "stdout"
        }
      ]
    },
    {
      "cell_type": "markdown",
      "metadata": {
        "id": "mskXTBnw2Mh0",
        "colab_type": "text"
      },
      "source": [
        "Q9 of PF QUESTIONS"
      ]
    },
    {
      "cell_type": "code",
      "metadata": {
        "id": "IAMeqDINw9w4",
        "colab_type": "code",
        "colab": {
          "base_uri": "https://localhost:8080/",
          "height": 69
        },
        "outputId": "51db7f08-a384-47da-f4e2-7d13155d6148"
      },
      "source": [
        "#program to take input from the user and to check if the first number is divisible by second number or not\n",
        "x=int(input(\"Enter a number\"))\n",
        "y=int(input(\"Enter second number\"))\n",
        "if x%y==0:\n",
        "  print(x, \"is divisible by\",y)\n",
        "else:\n",
        "  print(y, \"is divisible by\",x)"
      ],
      "execution_count": null,
      "outputs": [
        {
          "output_type": "stream",
          "text": [
            "Enter a number4\n",
            "Enter second number2\n",
            "4 is divisible by 2\n"
          ],
          "name": "stdout"
        }
      ]
    },
    {
      "cell_type": "markdown",
      "metadata": {
        "id": "G2TbaVNn2Sp2",
        "colab_type": "text"
      },
      "source": [
        "Q10 OF PF QUESTIONS"
      ]
    },
    {
      "cell_type": "code",
      "metadata": {
        "id": "T7MMjb2hzWYn",
        "colab_type": "code",
        "colab": {
          "base_uri": "https://localhost:8080/",
          "height": 52
        },
        "outputId": "fb66312b-cc63-4d68-d69e-d513aff64adc"
      },
      "source": [
        "x=int(input(\"Enter the number of students\"))\n",
        "if x<0:\n",
        "  print(\"Number of students in the class are\",abs(x)) # Absolute value will make -35 to 35\n",
        "else:\n",
        "  print(\"Number of students in the class are\",x)\n",
        "\n"
      ],
      "execution_count": null,
      "outputs": [
        {
          "output_type": "stream",
          "text": [
            "Enter the number of students50\n",
            "Number of students in the class are 50\n"
          ],
          "name": "stdout"
        }
      ]
    },
    {
      "cell_type": "markdown",
      "metadata": {
        "id": "mCz2f54C2anz",
        "colab_type": "text"
      },
      "source": [
        "Q1 of PF QUESTIONS"
      ]
    },
    {
      "cell_type": "code",
      "metadata": {
        "id": "TjpfEvO_2dxQ",
        "colab_type": "code",
        "colab": {
          "base_uri": "https://localhost:8080/",
          "height": 69
        },
        "outputId": "ae731af3-35ba-4f5d-c553-037eb7ed0bc6"
      },
      "source": [
        "#to accept two numbers and display the greater number\n",
        "x=int(input(\"Enter a number\"))\n",
        "y=int(input(\"Enter second number\"))\n",
        "if x>y:\n",
        "  print(x,\"is greater than\",y)\n",
        "else:\n",
        "  print(y,\"is greater than\",x)"
      ],
      "execution_count": null,
      "outputs": [
        {
          "output_type": "stream",
          "text": [
            "Enter a number20\n",
            "Enter second number30\n",
            "30 is greater than 20\n"
          ],
          "name": "stdout"
        }
      ]
    },
    {
      "cell_type": "code",
      "metadata": {
        "id": "wONNiXak3P31",
        "colab_type": "code",
        "colab": {
          "base_uri": "https://localhost:8080/",
          "height": 191
        },
        "outputId": "cee86b99-e1b1-4700-cc85-075729cabcac"
      },
      "source": [
        "print(\"Choose a number for calculating Tsa and Cube of\")\n",
        "print(\"Enter 1 for cube\")\n",
        "print(\"Enter 2 for cuboid\")\n",
        "print(\"Enter 3 for sphere\")\n",
        "x=int(input(\"Enter:\"))\n",
        "if x==1:\n",
        "  y=int(input(\"Enter the side\"))\n",
        "  volume=y**3\n",
        "  tsa=(y**2)*6\n",
        "  print(\"Volume of cube is\",volume)\n",
        "  print(\"TSA is\",tsa)\n",
        "elif x==2:\n",
        "  m=int(input(\"Enter length\"))\n",
        "  l=int(input(\"Enter breadth\"))\n",
        "  k=int(input(\"Enter height\"))\n",
        "  TSA=2*(m+l+k)\n",
        "  vol=m*l*k\n",
        "  print(\"Volume of cuboid is\",vol)\n",
        "  print(\"TSA is\",TSA)\n",
        "elif x==3:\n",
        "  r=int(input(\"Enter radius\"))\n",
        "  volu=4/3*22/7*r**3\n",
        "  sa=4*22/7*r**2\n",
        "  print(\"Volume of sphere is\",volu)\n",
        "  print(\"TSA is\",sa)\n",
        "else:\n",
        "  print(\"Invalid input\")"
      ],
      "execution_count": null,
      "outputs": [
        {
          "output_type": "stream",
          "text": [
            "Choose a number for calculating Tsa and Cube of\n",
            "Enter 1 for cube\n",
            "Enter 2 for cuboid\n",
            "Enter 3 for sphere\n",
            "Enter:2\n",
            "Enter length30\n",
            "Enter breadth10\n",
            "Enter height4\n",
            "Volume of cuboid is 1200\n",
            "TSA is 88\n"
          ],
          "name": "stdout"
        }
      ]
    }
  ]
}